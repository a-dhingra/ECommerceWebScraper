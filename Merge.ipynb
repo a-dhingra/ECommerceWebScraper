{
  "nbformat": 4,
  "nbformat_minor": 0,
  "metadata": {
    "colab": {
      "name": "Untitled0.ipynb",
      "provenance": [],
      "authorship_tag": "ABX9TyMc4meHakX0kFkQKsKFPJw9",
      "include_colab_link": true
    },
    "kernelspec": {
      "name": "python3",
      "display_name": "Python 3"
    }
  },
  "cells": [
    {
      "cell_type": "markdown",
      "metadata": {
        "id": "view-in-github",
        "colab_type": "text"
      },
      "source": [
        "<a href=\"https://colab.research.google.com/github/a-dhingra/ECommerceWebScraper/blob/master/Merge.ipynb\" target=\"_parent\"><img src=\"https://colab.research.google.com/assets/colab-badge.svg\" alt=\"Open In Colab\"/></a>"
      ]
    },
    {
      "cell_type": "code",
      "metadata": {
        "id": "a1iC4-J-gAju"
      },
      "source": [
        "import pandas as pd\r\n",
        "import numpy as np"
      ],
      "execution_count": 109,
      "outputs": []
    },
    {
      "cell_type": "code",
      "metadata": {
        "colab": {
          "base_uri": "https://localhost:8080/",
          "height": 202
        },
        "id": "G3yux20RgDzH",
        "outputId": "b4b67dfe-ec36-42c3-b2a8-dc7e7c71a765"
      },
      "source": [
        "# CREATE 2 DATAFRAMES\r\n",
        "df1 = pd.DataFrame(np.random.randn(5,4), columns=list('ABCD'))\r\n",
        "df1 = df1*100000\r\n",
        "pd.options.display.max_colwidth = 200\r\n",
        "pd.options.display.float_format = '{:.2f}'.format\r\n",
        "df1['A'] = df1['A']*10\r\n",
        "df1.head()"
      ],
      "execution_count": 110,
      "outputs": [
        {
          "output_type": "execute_result",
          "data": {
            "text/html": [
              "<div>\n",
              "<style scoped>\n",
              "    .dataframe tbody tr th:only-of-type {\n",
              "        vertical-align: middle;\n",
              "    }\n",
              "\n",
              "    .dataframe tbody tr th {\n",
              "        vertical-align: top;\n",
              "    }\n",
              "\n",
              "    .dataframe thead th {\n",
              "        text-align: right;\n",
              "    }\n",
              "</style>\n",
              "<table border=\"1\" class=\"dataframe\">\n",
              "  <thead>\n",
              "    <tr style=\"text-align: right;\">\n",
              "      <th></th>\n",
              "      <th>A</th>\n",
              "      <th>B</th>\n",
              "      <th>C</th>\n",
              "      <th>D</th>\n",
              "    </tr>\n",
              "  </thead>\n",
              "  <tbody>\n",
              "    <tr>\n",
              "      <th>0</th>\n",
              "      <td>-462579.48</td>\n",
              "      <td>54038.37</td>\n",
              "      <td>32893.01</td>\n",
              "      <td>-119750.65</td>\n",
              "    </tr>\n",
              "    <tr>\n",
              "      <th>1</th>\n",
              "      <td>-1594666.56</td>\n",
              "      <td>165304.54</td>\n",
              "      <td>122398.27</td>\n",
              "      <td>202241.47</td>\n",
              "    </tr>\n",
              "    <tr>\n",
              "      <th>2</th>\n",
              "      <td>1673215.67</td>\n",
              "      <td>-83728.35</td>\n",
              "      <td>132489.21</td>\n",
              "      <td>-138557.60</td>\n",
              "    </tr>\n",
              "    <tr>\n",
              "      <th>3</th>\n",
              "      <td>-620661.01</td>\n",
              "      <td>46883.16</td>\n",
              "      <td>52884.31</td>\n",
              "      <td>111034.40</td>\n",
              "    </tr>\n",
              "    <tr>\n",
              "      <th>4</th>\n",
              "      <td>278619.15</td>\n",
              "      <td>-11921.33</td>\n",
              "      <td>102636.11</td>\n",
              "      <td>-66806.76</td>\n",
              "    </tr>\n",
              "  </tbody>\n",
              "</table>\n",
              "</div>"
            ],
            "text/plain": [
              "            A         B         C          D\n",
              "0  -462579.48  54038.37  32893.01 -119750.65\n",
              "1 -1594666.56 165304.54 122398.27  202241.47\n",
              "2  1673215.67 -83728.35 132489.21 -138557.60\n",
              "3  -620661.01  46883.16  52884.31  111034.40\n",
              "4   278619.15 -11921.33 102636.11  -66806.76"
            ]
          },
          "metadata": {
            "tags": []
          },
          "execution_count": 110
        }
      ]
    },
    {
      "cell_type": "code",
      "metadata": {
        "colab": {
          "base_uri": "https://localhost:8080/"
        },
        "id": "qsFmyvO2i4gj",
        "outputId": "bd42d58f-bc87-4c66-cb11-6db75e1e6b91"
      },
      "source": [
        "df1.dtypes"
      ],
      "execution_count": 111,
      "outputs": [
        {
          "output_type": "execute_result",
          "data": {
            "text/plain": [
              "A    float64\n",
              "B    float64\n",
              "C    float64\n",
              "D    float64\n",
              "dtype: object"
            ]
          },
          "metadata": {
            "tags": []
          },
          "execution_count": 111
        }
      ]
    },
    {
      "cell_type": "code",
      "metadata": {
        "colab": {
          "base_uri": "https://localhost:8080/",
          "height": 202
        },
        "id": "TZFE5ze9gXMJ",
        "outputId": "7be8eda4-d138-4987-b736-ae952a07d450"
      },
      "source": [
        "df1['A'] = df1['A'].apply(lambda x:x*(-1) if x < 0.0 else x)\r\n",
        "df1.head()"
      ],
      "execution_count": 112,
      "outputs": [
        {
          "output_type": "execute_result",
          "data": {
            "text/html": [
              "<div>\n",
              "<style scoped>\n",
              "    .dataframe tbody tr th:only-of-type {\n",
              "        vertical-align: middle;\n",
              "    }\n",
              "\n",
              "    .dataframe tbody tr th {\n",
              "        vertical-align: top;\n",
              "    }\n",
              "\n",
              "    .dataframe thead th {\n",
              "        text-align: right;\n",
              "    }\n",
              "</style>\n",
              "<table border=\"1\" class=\"dataframe\">\n",
              "  <thead>\n",
              "    <tr style=\"text-align: right;\">\n",
              "      <th></th>\n",
              "      <th>A</th>\n",
              "      <th>B</th>\n",
              "      <th>C</th>\n",
              "      <th>D</th>\n",
              "    </tr>\n",
              "  </thead>\n",
              "  <tbody>\n",
              "    <tr>\n",
              "      <th>0</th>\n",
              "      <td>462579.48</td>\n",
              "      <td>54038.37</td>\n",
              "      <td>32893.01</td>\n",
              "      <td>-119750.65</td>\n",
              "    </tr>\n",
              "    <tr>\n",
              "      <th>1</th>\n",
              "      <td>1594666.56</td>\n",
              "      <td>165304.54</td>\n",
              "      <td>122398.27</td>\n",
              "      <td>202241.47</td>\n",
              "    </tr>\n",
              "    <tr>\n",
              "      <th>2</th>\n",
              "      <td>1673215.67</td>\n",
              "      <td>-83728.35</td>\n",
              "      <td>132489.21</td>\n",
              "      <td>-138557.60</td>\n",
              "    </tr>\n",
              "    <tr>\n",
              "      <th>3</th>\n",
              "      <td>620661.01</td>\n",
              "      <td>46883.16</td>\n",
              "      <td>52884.31</td>\n",
              "      <td>111034.40</td>\n",
              "    </tr>\n",
              "    <tr>\n",
              "      <th>4</th>\n",
              "      <td>278619.15</td>\n",
              "      <td>-11921.33</td>\n",
              "      <td>102636.11</td>\n",
              "      <td>-66806.76</td>\n",
              "    </tr>\n",
              "  </tbody>\n",
              "</table>\n",
              "</div>"
            ],
            "text/plain": [
              "           A         B         C          D\n",
              "0  462579.48  54038.37  32893.01 -119750.65\n",
              "1 1594666.56 165304.54 122398.27  202241.47\n",
              "2 1673215.67 -83728.35 132489.21 -138557.60\n",
              "3  620661.01  46883.16  52884.31  111034.40\n",
              "4  278619.15 -11921.33 102636.11  -66806.76"
            ]
          },
          "metadata": {
            "tags": []
          },
          "execution_count": 112
        }
      ]
    },
    {
      "cell_type": "code",
      "metadata": {
        "colab": {
          "base_uri": "https://localhost:8080/",
          "height": 202
        },
        "id": "bkurK-Vbimt_",
        "outputId": "d9de5c87-de03-403a-a09a-710199091e76"
      },
      "source": [
        "df1['A'] = ['CAT','BAT','RAT','DOG','COW']\r\n",
        "df1"
      ],
      "execution_count": 113,
      "outputs": [
        {
          "output_type": "execute_result",
          "data": {
            "text/html": [
              "<div>\n",
              "<style scoped>\n",
              "    .dataframe tbody tr th:only-of-type {\n",
              "        vertical-align: middle;\n",
              "    }\n",
              "\n",
              "    .dataframe tbody tr th {\n",
              "        vertical-align: top;\n",
              "    }\n",
              "\n",
              "    .dataframe thead th {\n",
              "        text-align: right;\n",
              "    }\n",
              "</style>\n",
              "<table border=\"1\" class=\"dataframe\">\n",
              "  <thead>\n",
              "    <tr style=\"text-align: right;\">\n",
              "      <th></th>\n",
              "      <th>A</th>\n",
              "      <th>B</th>\n",
              "      <th>C</th>\n",
              "      <th>D</th>\n",
              "    </tr>\n",
              "  </thead>\n",
              "  <tbody>\n",
              "    <tr>\n",
              "      <th>0</th>\n",
              "      <td>CAT</td>\n",
              "      <td>54038.37</td>\n",
              "      <td>32893.01</td>\n",
              "      <td>-119750.65</td>\n",
              "    </tr>\n",
              "    <tr>\n",
              "      <th>1</th>\n",
              "      <td>BAT</td>\n",
              "      <td>165304.54</td>\n",
              "      <td>122398.27</td>\n",
              "      <td>202241.47</td>\n",
              "    </tr>\n",
              "    <tr>\n",
              "      <th>2</th>\n",
              "      <td>RAT</td>\n",
              "      <td>-83728.35</td>\n",
              "      <td>132489.21</td>\n",
              "      <td>-138557.60</td>\n",
              "    </tr>\n",
              "    <tr>\n",
              "      <th>3</th>\n",
              "      <td>DOG</td>\n",
              "      <td>46883.16</td>\n",
              "      <td>52884.31</td>\n",
              "      <td>111034.40</td>\n",
              "    </tr>\n",
              "    <tr>\n",
              "      <th>4</th>\n",
              "      <td>COW</td>\n",
              "      <td>-11921.33</td>\n",
              "      <td>102636.11</td>\n",
              "      <td>-66806.76</td>\n",
              "    </tr>\n",
              "  </tbody>\n",
              "</table>\n",
              "</div>"
            ],
            "text/plain": [
              "     A         B         C          D\n",
              "0  CAT  54038.37  32893.01 -119750.65\n",
              "1  BAT 165304.54 122398.27  202241.47\n",
              "2  RAT -83728.35 132489.21 -138557.60\n",
              "3  DOG  46883.16  52884.31  111034.40\n",
              "4  COW -11921.33 102636.11  -66806.76"
            ]
          },
          "metadata": {
            "tags": []
          },
          "execution_count": 113
        }
      ]
    },
    {
      "cell_type": "code",
      "metadata": {
        "colab": {
          "base_uri": "https://localhost:8080/",
          "height": 233
        },
        "id": "HQt9yjOgkZ_3",
        "outputId": "0645fed5-3f5a-41a8-87ef-121d3f8744a4"
      },
      "source": [
        "df1.set_index('A')"
      ],
      "execution_count": 114,
      "outputs": [
        {
          "output_type": "execute_result",
          "data": {
            "text/html": [
              "<div>\n",
              "<style scoped>\n",
              "    .dataframe tbody tr th:only-of-type {\n",
              "        vertical-align: middle;\n",
              "    }\n",
              "\n",
              "    .dataframe tbody tr th {\n",
              "        vertical-align: top;\n",
              "    }\n",
              "\n",
              "    .dataframe thead th {\n",
              "        text-align: right;\n",
              "    }\n",
              "</style>\n",
              "<table border=\"1\" class=\"dataframe\">\n",
              "  <thead>\n",
              "    <tr style=\"text-align: right;\">\n",
              "      <th></th>\n",
              "      <th>B</th>\n",
              "      <th>C</th>\n",
              "      <th>D</th>\n",
              "    </tr>\n",
              "    <tr>\n",
              "      <th>A</th>\n",
              "      <th></th>\n",
              "      <th></th>\n",
              "      <th></th>\n",
              "    </tr>\n",
              "  </thead>\n",
              "  <tbody>\n",
              "    <tr>\n",
              "      <th>CAT</th>\n",
              "      <td>54038.37</td>\n",
              "      <td>32893.01</td>\n",
              "      <td>-119750.65</td>\n",
              "    </tr>\n",
              "    <tr>\n",
              "      <th>BAT</th>\n",
              "      <td>165304.54</td>\n",
              "      <td>122398.27</td>\n",
              "      <td>202241.47</td>\n",
              "    </tr>\n",
              "    <tr>\n",
              "      <th>RAT</th>\n",
              "      <td>-83728.35</td>\n",
              "      <td>132489.21</td>\n",
              "      <td>-138557.60</td>\n",
              "    </tr>\n",
              "    <tr>\n",
              "      <th>DOG</th>\n",
              "      <td>46883.16</td>\n",
              "      <td>52884.31</td>\n",
              "      <td>111034.40</td>\n",
              "    </tr>\n",
              "    <tr>\n",
              "      <th>COW</th>\n",
              "      <td>-11921.33</td>\n",
              "      <td>102636.11</td>\n",
              "      <td>-66806.76</td>\n",
              "    </tr>\n",
              "  </tbody>\n",
              "</table>\n",
              "</div>"
            ],
            "text/plain": [
              "            B         C          D\n",
              "A                                 \n",
              "CAT  54038.37  32893.01 -119750.65\n",
              "BAT 165304.54 122398.27  202241.47\n",
              "RAT -83728.35 132489.21 -138557.60\n",
              "DOG  46883.16  52884.31  111034.40\n",
              "COW -11921.33 102636.11  -66806.76"
            ]
          },
          "metadata": {
            "tags": []
          },
          "execution_count": 114
        }
      ]
    },
    {
      "cell_type": "code",
      "metadata": {
        "colab": {
          "base_uri": "https://localhost:8080/",
          "height": 202
        },
        "id": "-AvoTjfNkdER",
        "outputId": "2b978872-5ae3-4f23-c125-4b338ae8e5cf"
      },
      "source": [
        "df1['B'] = np.random.randint(10,99,5)\r\n",
        "df1"
      ],
      "execution_count": 115,
      "outputs": [
        {
          "output_type": "execute_result",
          "data": {
            "text/html": [
              "<div>\n",
              "<style scoped>\n",
              "    .dataframe tbody tr th:only-of-type {\n",
              "        vertical-align: middle;\n",
              "    }\n",
              "\n",
              "    .dataframe tbody tr th {\n",
              "        vertical-align: top;\n",
              "    }\n",
              "\n",
              "    .dataframe thead th {\n",
              "        text-align: right;\n",
              "    }\n",
              "</style>\n",
              "<table border=\"1\" class=\"dataframe\">\n",
              "  <thead>\n",
              "    <tr style=\"text-align: right;\">\n",
              "      <th></th>\n",
              "      <th>A</th>\n",
              "      <th>B</th>\n",
              "      <th>C</th>\n",
              "      <th>D</th>\n",
              "    </tr>\n",
              "  </thead>\n",
              "  <tbody>\n",
              "    <tr>\n",
              "      <th>0</th>\n",
              "      <td>CAT</td>\n",
              "      <td>60</td>\n",
              "      <td>32893.01</td>\n",
              "      <td>-119750.65</td>\n",
              "    </tr>\n",
              "    <tr>\n",
              "      <th>1</th>\n",
              "      <td>BAT</td>\n",
              "      <td>37</td>\n",
              "      <td>122398.27</td>\n",
              "      <td>202241.47</td>\n",
              "    </tr>\n",
              "    <tr>\n",
              "      <th>2</th>\n",
              "      <td>RAT</td>\n",
              "      <td>88</td>\n",
              "      <td>132489.21</td>\n",
              "      <td>-138557.60</td>\n",
              "    </tr>\n",
              "    <tr>\n",
              "      <th>3</th>\n",
              "      <td>DOG</td>\n",
              "      <td>86</td>\n",
              "      <td>52884.31</td>\n",
              "      <td>111034.40</td>\n",
              "    </tr>\n",
              "    <tr>\n",
              "      <th>4</th>\n",
              "      <td>COW</td>\n",
              "      <td>25</td>\n",
              "      <td>102636.11</td>\n",
              "      <td>-66806.76</td>\n",
              "    </tr>\n",
              "  </tbody>\n",
              "</table>\n",
              "</div>"
            ],
            "text/plain": [
              "     A   B         C          D\n",
              "0  CAT  60  32893.01 -119750.65\n",
              "1  BAT  37 122398.27  202241.47\n",
              "2  RAT  88 132489.21 -138557.60\n",
              "3  DOG  86  52884.31  111034.40\n",
              "4  COW  25 102636.11  -66806.76"
            ]
          },
          "metadata": {
            "tags": []
          },
          "execution_count": 115
        }
      ]
    },
    {
      "cell_type": "code",
      "metadata": {
        "colab": {
          "base_uri": "https://localhost:8080/",
          "height": 202
        },
        "id": "ugJnlHOikwKl",
        "outputId": "5d471b2b-644e-43d2-a819-155ba54c345c"
      },
      "source": [
        "df1['C'] = np.random.randint(100,999,5)\r\n",
        "df1['D'] = np.random.randint(1,9,5)\r\n",
        "df1"
      ],
      "execution_count": 116,
      "outputs": [
        {
          "output_type": "execute_result",
          "data": {
            "text/html": [
              "<div>\n",
              "<style scoped>\n",
              "    .dataframe tbody tr th:only-of-type {\n",
              "        vertical-align: middle;\n",
              "    }\n",
              "\n",
              "    .dataframe tbody tr th {\n",
              "        vertical-align: top;\n",
              "    }\n",
              "\n",
              "    .dataframe thead th {\n",
              "        text-align: right;\n",
              "    }\n",
              "</style>\n",
              "<table border=\"1\" class=\"dataframe\">\n",
              "  <thead>\n",
              "    <tr style=\"text-align: right;\">\n",
              "      <th></th>\n",
              "      <th>A</th>\n",
              "      <th>B</th>\n",
              "      <th>C</th>\n",
              "      <th>D</th>\n",
              "    </tr>\n",
              "  </thead>\n",
              "  <tbody>\n",
              "    <tr>\n",
              "      <th>0</th>\n",
              "      <td>CAT</td>\n",
              "      <td>60</td>\n",
              "      <td>903</td>\n",
              "      <td>3</td>\n",
              "    </tr>\n",
              "    <tr>\n",
              "      <th>1</th>\n",
              "      <td>BAT</td>\n",
              "      <td>37</td>\n",
              "      <td>742</td>\n",
              "      <td>1</td>\n",
              "    </tr>\n",
              "    <tr>\n",
              "      <th>2</th>\n",
              "      <td>RAT</td>\n",
              "      <td>88</td>\n",
              "      <td>880</td>\n",
              "      <td>7</td>\n",
              "    </tr>\n",
              "    <tr>\n",
              "      <th>3</th>\n",
              "      <td>DOG</td>\n",
              "      <td>86</td>\n",
              "      <td>247</td>\n",
              "      <td>6</td>\n",
              "    </tr>\n",
              "    <tr>\n",
              "      <th>4</th>\n",
              "      <td>COW</td>\n",
              "      <td>25</td>\n",
              "      <td>180</td>\n",
              "      <td>3</td>\n",
              "    </tr>\n",
              "  </tbody>\n",
              "</table>\n",
              "</div>"
            ],
            "text/plain": [
              "     A   B    C  D\n",
              "0  CAT  60  903  3\n",
              "1  BAT  37  742  1\n",
              "2  RAT  88  880  7\n",
              "3  DOG  86  247  6\n",
              "4  COW  25  180  3"
            ]
          },
          "metadata": {
            "tags": []
          },
          "execution_count": 116
        }
      ]
    },
    {
      "cell_type": "code",
      "metadata": {
        "colab": {
          "base_uri": "https://localhost:8080/",
          "height": 233
        },
        "id": "ZelsRd6Gk5xf",
        "outputId": "94c056e4-21bd-4299-b13e-c8b8cc7c63c1"
      },
      "source": [
        "df1 = df1.set_index('A')\r\n",
        "df1"
      ],
      "execution_count": 117,
      "outputs": [
        {
          "output_type": "execute_result",
          "data": {
            "text/html": [
              "<div>\n",
              "<style scoped>\n",
              "    .dataframe tbody tr th:only-of-type {\n",
              "        vertical-align: middle;\n",
              "    }\n",
              "\n",
              "    .dataframe tbody tr th {\n",
              "        vertical-align: top;\n",
              "    }\n",
              "\n",
              "    .dataframe thead th {\n",
              "        text-align: right;\n",
              "    }\n",
              "</style>\n",
              "<table border=\"1\" class=\"dataframe\">\n",
              "  <thead>\n",
              "    <tr style=\"text-align: right;\">\n",
              "      <th></th>\n",
              "      <th>B</th>\n",
              "      <th>C</th>\n",
              "      <th>D</th>\n",
              "    </tr>\n",
              "    <tr>\n",
              "      <th>A</th>\n",
              "      <th></th>\n",
              "      <th></th>\n",
              "      <th></th>\n",
              "    </tr>\n",
              "  </thead>\n",
              "  <tbody>\n",
              "    <tr>\n",
              "      <th>CAT</th>\n",
              "      <td>60</td>\n",
              "      <td>903</td>\n",
              "      <td>3</td>\n",
              "    </tr>\n",
              "    <tr>\n",
              "      <th>BAT</th>\n",
              "      <td>37</td>\n",
              "      <td>742</td>\n",
              "      <td>1</td>\n",
              "    </tr>\n",
              "    <tr>\n",
              "      <th>RAT</th>\n",
              "      <td>88</td>\n",
              "      <td>880</td>\n",
              "      <td>7</td>\n",
              "    </tr>\n",
              "    <tr>\n",
              "      <th>DOG</th>\n",
              "      <td>86</td>\n",
              "      <td>247</td>\n",
              "      <td>6</td>\n",
              "    </tr>\n",
              "    <tr>\n",
              "      <th>COW</th>\n",
              "      <td>25</td>\n",
              "      <td>180</td>\n",
              "      <td>3</td>\n",
              "    </tr>\n",
              "  </tbody>\n",
              "</table>\n",
              "</div>"
            ],
            "text/plain": [
              "      B    C  D\n",
              "A              \n",
              "CAT  60  903  3\n",
              "BAT  37  742  1\n",
              "RAT  88  880  7\n",
              "DOG  86  247  6\n",
              "COW  25  180  3"
            ]
          },
          "metadata": {
            "tags": []
          },
          "execution_count": 117
        }
      ]
    },
    {
      "cell_type": "code",
      "metadata": {
        "id": "BnWlMHe-k_tn"
      },
      "source": [
        "df1.reset_index(inplace=True)"
      ],
      "execution_count": 118,
      "outputs": []
    },
    {
      "cell_type": "code",
      "metadata": {
        "colab": {
          "base_uri": "https://localhost:8080/",
          "height": 202
        },
        "id": "ID0SF_cZlGHJ",
        "outputId": "a478962d-7871-4037-e06c-96084a9dfbe2"
      },
      "source": [
        "df1"
      ],
      "execution_count": 119,
      "outputs": [
        {
          "output_type": "execute_result",
          "data": {
            "text/html": [
              "<div>\n",
              "<style scoped>\n",
              "    .dataframe tbody tr th:only-of-type {\n",
              "        vertical-align: middle;\n",
              "    }\n",
              "\n",
              "    .dataframe tbody tr th {\n",
              "        vertical-align: top;\n",
              "    }\n",
              "\n",
              "    .dataframe thead th {\n",
              "        text-align: right;\n",
              "    }\n",
              "</style>\n",
              "<table border=\"1\" class=\"dataframe\">\n",
              "  <thead>\n",
              "    <tr style=\"text-align: right;\">\n",
              "      <th></th>\n",
              "      <th>A</th>\n",
              "      <th>B</th>\n",
              "      <th>C</th>\n",
              "      <th>D</th>\n",
              "    </tr>\n",
              "  </thead>\n",
              "  <tbody>\n",
              "    <tr>\n",
              "      <th>0</th>\n",
              "      <td>CAT</td>\n",
              "      <td>60</td>\n",
              "      <td>903</td>\n",
              "      <td>3</td>\n",
              "    </tr>\n",
              "    <tr>\n",
              "      <th>1</th>\n",
              "      <td>BAT</td>\n",
              "      <td>37</td>\n",
              "      <td>742</td>\n",
              "      <td>1</td>\n",
              "    </tr>\n",
              "    <tr>\n",
              "      <th>2</th>\n",
              "      <td>RAT</td>\n",
              "      <td>88</td>\n",
              "      <td>880</td>\n",
              "      <td>7</td>\n",
              "    </tr>\n",
              "    <tr>\n",
              "      <th>3</th>\n",
              "      <td>DOG</td>\n",
              "      <td>86</td>\n",
              "      <td>247</td>\n",
              "      <td>6</td>\n",
              "    </tr>\n",
              "    <tr>\n",
              "      <th>4</th>\n",
              "      <td>COW</td>\n",
              "      <td>25</td>\n",
              "      <td>180</td>\n",
              "      <td>3</td>\n",
              "    </tr>\n",
              "  </tbody>\n",
              "</table>\n",
              "</div>"
            ],
            "text/plain": [
              "     A   B    C  D\n",
              "0  CAT  60  903  3\n",
              "1  BAT  37  742  1\n",
              "2  RAT  88  880  7\n",
              "3  DOG  86  247  6\n",
              "4  COW  25  180  3"
            ]
          },
          "metadata": {
            "tags": []
          },
          "execution_count": 119
        }
      ]
    },
    {
      "cell_type": "code",
      "metadata": {
        "colab": {
          "base_uri": "https://localhost:8080/",
          "height": 202
        },
        "id": "OgjDfMQGlGs0",
        "outputId": "561e37a0-bf71-4967-f6cd-059ea480bb10"
      },
      "source": [
        "# df1 = df1.rename(columns = {'A':'ANIMAL','B':'SPEED','C':'WEIGHT','D':'COUNT'})\r\n",
        "df1.columns = ['ANIMAL','SPEED','WEIGHT','COUNT']\r\n",
        "df1"
      ],
      "execution_count": 120,
      "outputs": [
        {
          "output_type": "execute_result",
          "data": {
            "text/html": [
              "<div>\n",
              "<style scoped>\n",
              "    .dataframe tbody tr th:only-of-type {\n",
              "        vertical-align: middle;\n",
              "    }\n",
              "\n",
              "    .dataframe tbody tr th {\n",
              "        vertical-align: top;\n",
              "    }\n",
              "\n",
              "    .dataframe thead th {\n",
              "        text-align: right;\n",
              "    }\n",
              "</style>\n",
              "<table border=\"1\" class=\"dataframe\">\n",
              "  <thead>\n",
              "    <tr style=\"text-align: right;\">\n",
              "      <th></th>\n",
              "      <th>ANIMAL</th>\n",
              "      <th>SPEED</th>\n",
              "      <th>WEIGHT</th>\n",
              "      <th>COUNT</th>\n",
              "    </tr>\n",
              "  </thead>\n",
              "  <tbody>\n",
              "    <tr>\n",
              "      <th>0</th>\n",
              "      <td>CAT</td>\n",
              "      <td>60</td>\n",
              "      <td>903</td>\n",
              "      <td>3</td>\n",
              "    </tr>\n",
              "    <tr>\n",
              "      <th>1</th>\n",
              "      <td>BAT</td>\n",
              "      <td>37</td>\n",
              "      <td>742</td>\n",
              "      <td>1</td>\n",
              "    </tr>\n",
              "    <tr>\n",
              "      <th>2</th>\n",
              "      <td>RAT</td>\n",
              "      <td>88</td>\n",
              "      <td>880</td>\n",
              "      <td>7</td>\n",
              "    </tr>\n",
              "    <tr>\n",
              "      <th>3</th>\n",
              "      <td>DOG</td>\n",
              "      <td>86</td>\n",
              "      <td>247</td>\n",
              "      <td>6</td>\n",
              "    </tr>\n",
              "    <tr>\n",
              "      <th>4</th>\n",
              "      <td>COW</td>\n",
              "      <td>25</td>\n",
              "      <td>180</td>\n",
              "      <td>3</td>\n",
              "    </tr>\n",
              "  </tbody>\n",
              "</table>\n",
              "</div>"
            ],
            "text/plain": [
              "  ANIMAL  SPEED  WEIGHT  COUNT\n",
              "0    CAT     60     903      3\n",
              "1    BAT     37     742      1\n",
              "2    RAT     88     880      7\n",
              "3    DOG     86     247      6\n",
              "4    COW     25     180      3"
            ]
          },
          "metadata": {
            "tags": []
          },
          "execution_count": 120
        }
      ]
    },
    {
      "cell_type": "code",
      "metadata": {
        "colab": {
          "base_uri": "https://localhost:8080/",
          "height": 233
        },
        "id": "Pih_3C6dlcuz",
        "outputId": "3a27ec59-6ce2-4fe3-eec2-3c7a54d5b6dd"
      },
      "source": [
        "df1 = df1.set_index('ANIMAL')\r\n",
        "df1"
      ],
      "execution_count": 121,
      "outputs": [
        {
          "output_type": "execute_result",
          "data": {
            "text/html": [
              "<div>\n",
              "<style scoped>\n",
              "    .dataframe tbody tr th:only-of-type {\n",
              "        vertical-align: middle;\n",
              "    }\n",
              "\n",
              "    .dataframe tbody tr th {\n",
              "        vertical-align: top;\n",
              "    }\n",
              "\n",
              "    .dataframe thead th {\n",
              "        text-align: right;\n",
              "    }\n",
              "</style>\n",
              "<table border=\"1\" class=\"dataframe\">\n",
              "  <thead>\n",
              "    <tr style=\"text-align: right;\">\n",
              "      <th></th>\n",
              "      <th>SPEED</th>\n",
              "      <th>WEIGHT</th>\n",
              "      <th>COUNT</th>\n",
              "    </tr>\n",
              "    <tr>\n",
              "      <th>ANIMAL</th>\n",
              "      <th></th>\n",
              "      <th></th>\n",
              "      <th></th>\n",
              "    </tr>\n",
              "  </thead>\n",
              "  <tbody>\n",
              "    <tr>\n",
              "      <th>CAT</th>\n",
              "      <td>60</td>\n",
              "      <td>903</td>\n",
              "      <td>3</td>\n",
              "    </tr>\n",
              "    <tr>\n",
              "      <th>BAT</th>\n",
              "      <td>37</td>\n",
              "      <td>742</td>\n",
              "      <td>1</td>\n",
              "    </tr>\n",
              "    <tr>\n",
              "      <th>RAT</th>\n",
              "      <td>88</td>\n",
              "      <td>880</td>\n",
              "      <td>7</td>\n",
              "    </tr>\n",
              "    <tr>\n",
              "      <th>DOG</th>\n",
              "      <td>86</td>\n",
              "      <td>247</td>\n",
              "      <td>6</td>\n",
              "    </tr>\n",
              "    <tr>\n",
              "      <th>COW</th>\n",
              "      <td>25</td>\n",
              "      <td>180</td>\n",
              "      <td>3</td>\n",
              "    </tr>\n",
              "  </tbody>\n",
              "</table>\n",
              "</div>"
            ],
            "text/plain": [
              "        SPEED  WEIGHT  COUNT\n",
              "ANIMAL                      \n",
              "CAT        60     903      3\n",
              "BAT        37     742      1\n",
              "RAT        88     880      7\n",
              "DOG        86     247      6\n",
              "COW        25     180      3"
            ]
          },
          "metadata": {
            "tags": []
          },
          "execution_count": 121
        }
      ]
    },
    {
      "cell_type": "code",
      "metadata": {
        "colab": {
          "base_uri": "https://localhost:8080/",
          "height": 141
        },
        "id": "N8ylgFzClnLN",
        "outputId": "36a79a8f-05c3-4766-ec3d-2c95c8f9dfeb"
      },
      "source": [
        "df2 = df1.iloc[:2,:2].copy()\r\n",
        "df2"
      ],
      "execution_count": 122,
      "outputs": [
        {
          "output_type": "execute_result",
          "data": {
            "text/html": [
              "<div>\n",
              "<style scoped>\n",
              "    .dataframe tbody tr th:only-of-type {\n",
              "        vertical-align: middle;\n",
              "    }\n",
              "\n",
              "    .dataframe tbody tr th {\n",
              "        vertical-align: top;\n",
              "    }\n",
              "\n",
              "    .dataframe thead th {\n",
              "        text-align: right;\n",
              "    }\n",
              "</style>\n",
              "<table border=\"1\" class=\"dataframe\">\n",
              "  <thead>\n",
              "    <tr style=\"text-align: right;\">\n",
              "      <th></th>\n",
              "      <th>SPEED</th>\n",
              "      <th>WEIGHT</th>\n",
              "    </tr>\n",
              "    <tr>\n",
              "      <th>ANIMAL</th>\n",
              "      <th></th>\n",
              "      <th></th>\n",
              "    </tr>\n",
              "  </thead>\n",
              "  <tbody>\n",
              "    <tr>\n",
              "      <th>CAT</th>\n",
              "      <td>60</td>\n",
              "      <td>903</td>\n",
              "    </tr>\n",
              "    <tr>\n",
              "      <th>BAT</th>\n",
              "      <td>37</td>\n",
              "      <td>742</td>\n",
              "    </tr>\n",
              "  </tbody>\n",
              "</table>\n",
              "</div>"
            ],
            "text/plain": [
              "        SPEED  WEIGHT\n",
              "ANIMAL               \n",
              "CAT        60     903\n",
              "BAT        37     742"
            ]
          },
          "metadata": {
            "tags": []
          },
          "execution_count": 122
        }
      ]
    },
    {
      "cell_type": "code",
      "metadata": {
        "colab": {
          "base_uri": "https://localhost:8080/",
          "height": 141
        },
        "id": "f87U_O-VlxNI",
        "outputId": "6a937e5a-fa43-4d64-8be5-56c95272f2a2"
      },
      "source": [
        "df2['FRIENDS'] = ['HIPPO','GIRAFFE']\r\n",
        "df2"
      ],
      "execution_count": 123,
      "outputs": [
        {
          "output_type": "execute_result",
          "data": {
            "text/html": [
              "<div>\n",
              "<style scoped>\n",
              "    .dataframe tbody tr th:only-of-type {\n",
              "        vertical-align: middle;\n",
              "    }\n",
              "\n",
              "    .dataframe tbody tr th {\n",
              "        vertical-align: top;\n",
              "    }\n",
              "\n",
              "    .dataframe thead th {\n",
              "        text-align: right;\n",
              "    }\n",
              "</style>\n",
              "<table border=\"1\" class=\"dataframe\">\n",
              "  <thead>\n",
              "    <tr style=\"text-align: right;\">\n",
              "      <th></th>\n",
              "      <th>SPEED</th>\n",
              "      <th>WEIGHT</th>\n",
              "      <th>FRIENDS</th>\n",
              "    </tr>\n",
              "    <tr>\n",
              "      <th>ANIMAL</th>\n",
              "      <th></th>\n",
              "      <th></th>\n",
              "      <th></th>\n",
              "    </tr>\n",
              "  </thead>\n",
              "  <tbody>\n",
              "    <tr>\n",
              "      <th>CAT</th>\n",
              "      <td>60</td>\n",
              "      <td>903</td>\n",
              "      <td>HIPPO</td>\n",
              "    </tr>\n",
              "    <tr>\n",
              "      <th>BAT</th>\n",
              "      <td>37</td>\n",
              "      <td>742</td>\n",
              "      <td>GIRAFFE</td>\n",
              "    </tr>\n",
              "  </tbody>\n",
              "</table>\n",
              "</div>"
            ],
            "text/plain": [
              "        SPEED  WEIGHT  FRIENDS\n",
              "ANIMAL                        \n",
              "CAT        60     903    HIPPO\n",
              "BAT        37     742  GIRAFFE"
            ]
          },
          "metadata": {
            "tags": []
          },
          "execution_count": 123
        }
      ]
    },
    {
      "cell_type": "code",
      "metadata": {
        "colab": {
          "base_uri": "https://localhost:8080/"
        },
        "id": "0kl87OzMmCHi",
        "outputId": "bb54e81f-69fc-4d7e-b370-e874182ab088"
      },
      "source": [
        "# df1['ALSO FRIENDS'] = df1.apply(lambda x: df2.loc[x['ANIMAL']==df1['ANIMAL'], x['FRIENDS']].reset_index(drop=True), axis=1)\r\n",
        "# df1['ALSO FRIENDS'] = df2['FRIENDS'].apply(lambda x: x.index == df2.index)\r\n",
        "type(df1)"
      ],
      "execution_count": 124,
      "outputs": [
        {
          "output_type": "execute_result",
          "data": {
            "text/plain": [
              "pandas.core.frame.DataFrame"
            ]
          },
          "metadata": {
            "tags": []
          },
          "execution_count": 124
        }
      ]
    },
    {
      "cell_type": "code",
      "metadata": {
        "colab": {
          "base_uri": "https://localhost:8080/",
          "height": 141
        },
        "id": "z1-xLS7Ln9U5",
        "outputId": "138f963d-00b0-45d7-89c6-a6791315a0e4"
      },
      "source": [
        "df3 = pd.merge(df1, df2, on='ANIMAL', how='right')\r\n",
        "df3"
      ],
      "execution_count": 125,
      "outputs": [
        {
          "output_type": "execute_result",
          "data": {
            "text/html": [
              "<div>\n",
              "<style scoped>\n",
              "    .dataframe tbody tr th:only-of-type {\n",
              "        vertical-align: middle;\n",
              "    }\n",
              "\n",
              "    .dataframe tbody tr th {\n",
              "        vertical-align: top;\n",
              "    }\n",
              "\n",
              "    .dataframe thead th {\n",
              "        text-align: right;\n",
              "    }\n",
              "</style>\n",
              "<table border=\"1\" class=\"dataframe\">\n",
              "  <thead>\n",
              "    <tr style=\"text-align: right;\">\n",
              "      <th></th>\n",
              "      <th>SPEED_x</th>\n",
              "      <th>WEIGHT_x</th>\n",
              "      <th>COUNT</th>\n",
              "      <th>SPEED_y</th>\n",
              "      <th>WEIGHT_y</th>\n",
              "      <th>FRIENDS</th>\n",
              "    </tr>\n",
              "    <tr>\n",
              "      <th>ANIMAL</th>\n",
              "      <th></th>\n",
              "      <th></th>\n",
              "      <th></th>\n",
              "      <th></th>\n",
              "      <th></th>\n",
              "      <th></th>\n",
              "    </tr>\n",
              "  </thead>\n",
              "  <tbody>\n",
              "    <tr>\n",
              "      <th>CAT</th>\n",
              "      <td>60</td>\n",
              "      <td>903</td>\n",
              "      <td>3</td>\n",
              "      <td>60</td>\n",
              "      <td>903</td>\n",
              "      <td>HIPPO</td>\n",
              "    </tr>\n",
              "    <tr>\n",
              "      <th>BAT</th>\n",
              "      <td>37</td>\n",
              "      <td>742</td>\n",
              "      <td>1</td>\n",
              "      <td>37</td>\n",
              "      <td>742</td>\n",
              "      <td>GIRAFFE</td>\n",
              "    </tr>\n",
              "  </tbody>\n",
              "</table>\n",
              "</div>"
            ],
            "text/plain": [
              "        SPEED_x  WEIGHT_x  COUNT  SPEED_y  WEIGHT_y  FRIENDS\n",
              "ANIMAL                                                      \n",
              "CAT          60       903      3       60       903    HIPPO\n",
              "BAT          37       742      1       37       742  GIRAFFE"
            ]
          },
          "metadata": {
            "tags": []
          },
          "execution_count": 125
        }
      ]
    }
  ]
}